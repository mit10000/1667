{
  "nbformat": 4,
  "nbformat_minor": 0,
  "metadata": {
    "colab": {
      "provenance": [],
      "authorship_tag": "ABX9TyPBjHOCqV/PLoWEJEUylKP/",
      "include_colab_link": true
    },
    "kernelspec": {
      "name": "python3",
      "display_name": "Python 3"
    },
    "language_info": {
      "name": "python"
    }
  },
  "cells": [
    {
      "cell_type": "markdown",
      "metadata": {
        "id": "view-in-github",
        "colab_type": "text"
      },
      "source": [
        "<a href=\"https://colab.research.google.com/github/mit10000/1667/blob/master/basicPythonTricks.ipynb\" target=\"_parent\"><img src=\"https://colab.research.google.com/assets/colab-badge.svg\" alt=\"Open In Colab\"/></a>"
      ]
    },
    {
      "cell_type": "code",
      "execution_count": null,
      "metadata": {
        "colab": {
          "base_uri": "https://localhost:8080/",
          "height": 35
        },
        "id": "IeZmbl76suSs",
        "outputId": "d0a1de4e-5896-4f6c-f71e-eab3f7222ea4"
      },
      "outputs": [
        {
          "output_type": "execute_result",
          "data": {
            "text/plain": [
              "'\\nBasic tricks in python\\n'"
            ],
            "application/vnd.google.colaboratory.intrinsic+json": {
              "type": "string"
            }
          },
          "metadata": {},
          "execution_count": 1
        }
      ],
      "source": [
        "\"\"\"\n",
        "Basic tricks in python\n",
        "\"\"\""
      ]
    },
    {
      "cell_type": "code",
      "source": [
        "\"\"\"\n",
        "deque\n",
        "双边队列\n",
        "\"\"\"\n",
        "#import 进来\n",
        "from collections import deque\n",
        "#初始化\n",
        "x = deque([])\n",
        "#添加新元素到尾巴， 得到[8], 和普通list一样命令\n",
        "x.append(8)\n",
        "print(x)\n",
        "#添加新元素到头部， 得到[5,8]\n",
        "x.appendleft(5)\n",
        "print(x)\n",
        "#从尾巴pop出来1个元素,和普通list命令一样, 5\n",
        "y = x.pop()\n",
        "print(\"x={},y={}\".format(x,y))\n",
        "#从头部pop出来1个元素, 8\n",
        "z = x.popleft()\n",
        "print(\"x={},z={}\".format(x,z))\n",
        "\n"
      ],
      "metadata": {
        "colab": {
          "base_uri": "https://localhost:8080/"
        },
        "id": "74CgLkdNj0yh",
        "outputId": "6d9ce6ec-7840-4572-b6d2-2ffdd3b0d6ca"
      },
      "execution_count": 5,
      "outputs": [
        {
          "output_type": "stream",
          "name": "stdout",
          "text": [
            "deque([8])\n",
            "deque([5, 8])\n",
            "x=deque([5]),y=8\n",
            "x=deque([]),z=5\n"
          ]
        }
      ]
    },
    {
      "cell_type": "code",
      "source": [
        "\"\"\"\n",
        "heapq\n",
        "\"\"\""
      ],
      "metadata": {
        "id": "n952xIdsj4zS"
      },
      "execution_count": null,
      "outputs": []
    }
  ]
}